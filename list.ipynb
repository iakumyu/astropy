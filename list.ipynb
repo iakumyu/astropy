{
 "cells": [
  {
   "cell_type": "code",
   "execution_count": 2,
   "metadata": {},
   "outputs": [],
   "source": [
    "import re\n",
    "import requests\n",
    "from bs4 import BeautifulSoup\n",
    "\n",
    "d_year = '2023'\n",
    "d_date = '20230802'\n",
    "\n",
    "url_base = 'https://solarwww.mtk.nao.ac.jp/mitaka_solar/ha-mtkft1/fts/'\n",
    "\n",
    "url = url_base + d_year + '/' + d_date + '/'\n",
    "\n",
    "r = requests.get(url)\n",
    "soup = BeautifulSoup(r.text, 'html.parser')\n",
    "get_list = soup.find_all('a')\n",
    "\n",
    "pattern = 'mtk_ft_ha_fd_\\d{8}T\\d{6}_i_000_m.fts.gz'\n",
    "\n",
    "prog = re.compile(pattern)\n",
    "\n",
    "f = open('list.txt', 'w')\n",
    "\n",
    "for i, fits_list in enumerate(get_list):    \n",
    "    fits_href = fits_list.attrs['href']\n",
    "    if prog.match(fits_href):\n",
    "        f.write(fits_href + '\\n')\n",
    "\n",
    "f.close()\n"
   ]
  }
 ],
 "metadata": {
  "kernelspec": {
   "display_name": "Python 3 (ipykernel)",
   "language": "python",
   "name": "python3"
  },
  "language_info": {
   "codemirror_mode": {
    "name": "ipython",
    "version": 3
   },
   "file_extension": ".py",
   "mimetype": "text/x-python",
   "name": "python",
   "nbconvert_exporter": "python",
   "pygments_lexer": "ipython3",
   "version": "3.10.8"
  },
  "orig_nbformat": 4,
  "vscode": {
   "interpreter": {
    "hash": "949777d72b0d2535278d3dc13498b2535136f6dfe0678499012e853ee9abcab1"
   }
  }
 },
 "nbformat": 4,
 "nbformat_minor": 2
}
